{
 "cells": [
  {
   "cell_type": "code",
   "execution_count": 1,
   "id": "ce8c99a2",
   "metadata": {},
   "outputs": [],
   "source": [
    "import xgboost as xgb\n",
    "from sklearn.ensemble import RandomForestRegressor\n",
    "from sklearn.metrics import mean_squared_error\n",
    "import pandas as pd\n",
    "import numpy as np\n",
    "%matplotlib inline\n",
    "import matplotlib.pyplot as plt\n",
    "from sklearn import tree"
   ]
  },
  {
   "cell_type": "code",
   "execution_count": null,
   "id": "e1ecd9a0",
   "metadata": {},
   "outputs": [],
   "source": [
    "train_identity = pd.read_csv('./ieee-fraud-detection/train_identity.csv')\n",
    "\n",
    "#test_identity = pd.read_csv('./ieee-fraud-detection/test_identity.csv')"
   ]
  },
  {
   "cell_type": "code",
   "execution_count": null,
   "id": "ef9ad8e9",
   "metadata": {},
   "outputs": [],
   "source": []
  },
  {
   "cell_type": "code",
   "execution_count": null,
   "id": "46353cf3",
   "metadata": {},
   "outputs": [],
   "source": []
  },
  {
   "cell_type": "markdown",
   "id": "fb693aea",
   "metadata": {},
   "source": [
    "# Establezco una semilla fija para garantizar reproducibilidad\n",
    "\n"
   ]
  },
  {
   "cell_type": "code",
   "execution_count": null,
   "id": "bb56bc15",
   "metadata": {},
   "outputs": [],
   "source": [
    "X_train, X_validate = train_test_split(train_identity, test_size=0.5, random_state=42)"
   ]
  },
  {
   "cell_type": "code",
   "execution_count": null,
   "id": "eafb3bdf",
   "metadata": {},
   "outputs": [],
   "source": []
  },
  {
   "cell_type": "code",
   "execution_count": null,
   "id": "ec1a6e3e",
   "metadata": {},
   "outputs": [],
   "source": []
  },
  {
   "cell_type": "code",
   "execution_count": null,
   "id": "24bc9e05",
   "metadata": {},
   "outputs": [],
   "source": []
  },
  {
   "cell_type": "code",
   "execution_count": null,
   "id": "b5f24a42",
   "metadata": {},
   "outputs": [],
   "source": []
  },
  {
   "cell_type": "code",
   "execution_count": null,
   "id": "8c6c3436",
   "metadata": {},
   "outputs": [],
   "source": []
  },
  {
   "cell_type": "markdown",
   "id": "c3ed89bd",
   "metadata": {},
   "source": [
    "# ¿Cuál es el mejor score de validación obtenido? (¿Cómo conviene obtener el dataset para validar?"
   ]
  },
  {
   "cell_type": "markdown",
   "id": "f006f79c",
   "metadata": {},
   "source": [
    "# Al predecir con este modelo para la competencia, ¿Cúal es el score obtenido? (guardar el csv con predicciones para entregarlo después)"
   ]
  },
  {
   "cell_type": "markdown",
   "id": "78702eeb",
   "metadata": {},
   "source": [
    "# ¿Qué features son los más importantes para predecir con el mejor modelo? Graficar."
   ]
  },
  {
   "cell_type": "code",
   "execution_count": null,
   "id": "3729eb96",
   "metadata": {},
   "outputs": [],
   "source": []
  }
 ],
 "metadata": {
  "kernelspec": {
   "display_name": "organizacionDatos",
   "language": "python",
   "name": "organizaciondatos"
  },
  "language_info": {
   "codemirror_mode": {
    "name": "ipython",
    "version": 3
   },
   "file_extension": ".py",
   "mimetype": "text/x-python",
   "name": "python",
   "nbconvert_exporter": "python",
   "pygments_lexer": "ipython3",
   "version": "3.9.6"
  },
  "toc": {
   "base_numbering": 1,
   "nav_menu": {},
   "number_sections": true,
   "sideBar": true,
   "skip_h1_title": false,
   "title_cell": "Table of Contents",
   "title_sidebar": "Contents",
   "toc_cell": false,
   "toc_position": {},
   "toc_section_display": true,
   "toc_window_display": false
  }
 },
 "nbformat": 4,
 "nbformat_minor": 5
}
